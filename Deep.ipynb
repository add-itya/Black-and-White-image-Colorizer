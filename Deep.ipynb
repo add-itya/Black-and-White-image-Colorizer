{
  "nbformat": 4,
  "nbformat_minor": 0,
  "metadata": {
    "colab": {
      "name": "Deep.ipynb",
      "provenance": [],
      "authorship_tag": "ABX9TyNxLAzcxgqLEu0hB91FyvSB",
      "include_colab_link": true
    },
    "kernelspec": {
      "name": "python3",
      "display_name": "Python 3"
    },
    "language_info": {
      "name": "python"
    }
  },
  "cells": [
    {
      "cell_type": "markdown",
      "metadata": {
        "id": "view-in-github",
        "colab_type": "text"
      },
      "source": [
        "<a href=\"https://colab.research.google.com/github/add-itya/Black-and-White-image-Colorizer/blob/main/Deep.ipynb\" target=\"_parent\"><img src=\"https://colab.research.google.com/assets/colab-badge.svg\" alt=\"Open In Colab\"/></a>"
      ]
    },
    {
      "cell_type": "code",
      "source": [
        "pip install keras tensorflow pillow h5py jupyter scikit-image"
      ],
      "metadata": {
        "id": "O27X_kb24kUF"
      },
      "execution_count": null,
      "outputs": []
    },
    {
      "cell_type": "code",
      "source": [
        "from keras.layers import Conv2D, UpSampling2D, InputLayer, Conv2DTranspose\n",
        "from keras.layers import Activation, Dense, Dropout, Flatten\n",
        "from tensorflow.keras.layers import BatchNormalization\n",
        "from keras.models import Sequential\n",
        "from keras.preprocessing.image import ImageDataGenerator, array_to_img, img_to_array, load_img\n",
        "from skimage.color import rgb2lab, lab2rgb, rgb2gray, xyz2lab\n",
        "from skimage.io import imsave\n",
        "import numpy as np\n",
        "import os\n",
        "import random\n",
        "import tensorflow as tf"
      ],
      "metadata": {
        "id": "sJGL8sOrWPTa"
      },
      "execution_count": null,
      "outputs": []
    },
    {
      "cell_type": "code",
      "source": [
        "# Convert image to pixels array\n",
        "image = img_to_array(load_img('image_name.jpg'))\n",
        "image = np.array(image, dtype=float)"
      ],
      "metadata": {
        "id": "UiMg8sp2WD-f"
      },
      "execution_count": null,
      "outputs": []
    },
    {
      "cell_type": "code",
      "source": [
        "#24-bit RGB color space\n",
        "X = rgb2lab(1.0/255*image)[:,:,0]\n",
        "Y = rgb2lab(1.0/255*image)[:,:,1:]\n",
        "\n",
        "#lab has range -128 - 128, so we need to bound range from -1 to 1\n",
        "Y /= 128\n",
        "X = X.reshape(1, 400, 400, 1)\n",
        "Y = Y.reshape(1, 400, 400, 2)"
      ],
      "metadata": {
        "id": "keHO4SvNWEBw"
      },
      "execution_count": null,
      "outputs": []
    },
    {
      "cell_type": "code",
      "source": [
        "# Building the neural network\n",
        "model = Sequential()\n",
        "model.add(InputLayer(input_shape=(None, None, 1)))\n",
        "model.add(Conv2D(8, (3, 3), activation='relu', padding='same', strides=2))\n",
        "model.add(Conv2D(8, (3, 3), activation='relu', padding='same'))\n",
        "model.add(Conv2D(16, (3, 3), activation='relu', padding='same'))\n",
        "model.add(Conv2D(16, (3, 3), activation='relu', padding='same', strides=2))\n",
        "model.add(Conv2D(32, (3, 3), activation='relu', padding='same'))\n",
        "model.add(Conv2D(32, (3, 3), activation='relu', padding='same', strides=2))\n",
        "model.add(UpSampling2D((2, 2)))\n",
        "model.add(Conv2D(32, (3, 3), activation='relu', padding='same'))\n",
        "model.add(UpSampling2D((2, 2)))\n",
        "model.add(Conv2D(16, (3, 3), activation='relu', padding='same'))\n",
        "model.add(UpSampling2D((2, 2)))\n",
        "model.add(Conv2D(2, (3, 3), activation='tanh', padding='same'))"
      ],
      "metadata": {
        "id": "Favby4ejWH-E"
      },
      "execution_count": null,
      "outputs": []
    },
    {
      "cell_type": "code",
      "source": [
        "# Finish model\n",
        "model.compile(optimizer='rmsprop',loss='mse')"
      ],
      "metadata": {
        "id": "e_OzSlY7WKV7"
      },
      "execution_count": null,
      "outputs": []
    },
    {
      "cell_type": "code",
      "source": [
        "model.fit(x=X, \n",
        "    y=Y,\n",
        "    batch_size=1,\n",
        "    epochs=1000)"
      ],
      "metadata": {
        "id": "tE64qiXFWMMG"
      },
      "execution_count": null,
      "outputs": []
    },
    {
      "cell_type": "code",
      "source": [
        "print(model.evaluate(X, Y, batch_size=1))\n",
        "\n",
        "#grayscale as input\n",
        "output = model.predict(X)\n",
        "\n",
        "#output values multiply by 128 to give LAB spectrum\n",
        "output *= 128\n",
        "\n",
        "# Output colorizations\n",
        "cur = np.zeros((400, 400, 3))\n",
        "\n",
        "#black rgb canvas, grayscale layer then two color layers\n",
        "cur[:,:,0] = X[0][:,:,0]\n",
        "cur[:,:,1:] = output[0]\n",
        "imsave(\"img_result.png\", lab2rgb(cur))\n",
        "imsave(\"img_gray_version.png\", rgb2gray(lab2rgb(cur)))"
      ],
      "metadata": {
        "id": "chZ0Z9fzWN43"
      },
      "execution_count": null,
      "outputs": []
    }
  ]
}